{
 "cells": [
  {
   "cell_type": "code",
   "execution_count": 18,
   "metadata": {},
   "outputs": [
    {
     "name": "stdout",
     "output_type": "stream",
     "text": [
      "The autoreload extension is already loaded. To reload it, use:\n",
      "  %reload_ext autoreload\n"
     ]
    }
   ],
   "source": [
    "# magics: ensures that any changes to the modules loaded below will be re-loaded automatically\n",
    "%load_ext autoreload\n",
    "%autoreload 2\n",
    "\n",
    "# load packages\n",
    "import numpy as np\n",
    "\n",
    "import tools"
   ]
  },
  {
   "cell_type": "markdown",
   "metadata": {},
   "source": [
    "# Exercise 5: Numerical Integration\n",
    "Consider the numerical integration problem\n",
    "$$\n",
    "\\int x^{2}dg(x),\\,\\,\\,x\\sim\\mathcal{N}(0,1)\n",
    "$$\n",
    "\n",
    "Note that we can analytically show that for $f(x)=x^{2}$ (it is the\n",
    "variance of $x$)\n",
    "$$\n",
    "\\int f(x)g(x)dx=1\n",
    "$$"
   ]
  },
  {
   "cell_type": "code",
   "execution_count": 14,
   "metadata": {},
   "outputs": [],
   "source": [
    "# Define the function \n",
    "f = lambda x: x**2"
   ]
  },
  {
   "cell_type": "markdown",
   "metadata": {},
   "source": [
    "### 1. Approximate the integral using *Monte Carlo integration*."
   ]
  },
  {
   "cell_type": "code",
   "execution_count": 15,
   "metadata": {},
   "outputs": [
    {
     "name": "stdout",
     "output_type": "stream",
     "text": [
      "0.9993697469222269\n"
     ]
    }
   ],
   "source": [
    "num_draws = 500 # number of MC draws\n",
    "np.random.seed(2022) # set seed to make sure the results are the same\n",
    "x_mc = np.random.normal(size=num_draws) # draw from standard normal distribution\n",
    "Efx_MC = np.mean(f(x_mc))\n",
    "print(Efx_MC)"
   ]
  },
  {
   "cell_type": "code",
   "execution_count": 16,
   "metadata": {},
   "outputs": [],
   "source": [
    "#Create a function for later use\n",
    "def integrate_MC(f,num_points):\n",
    "    np.random.seed(2022)\n",
    "    x = np.random.normal(size=num_points) \n",
    "    return np.mean(f(x))"
   ]
  },
  {
   "cell_type": "markdown",
   "metadata": {},
   "source": [
    "### 2. Approximate the integral using *Gauss-Hermite integration*."
   ]
  },
  {
   "cell_type": "code",
   "execution_count": 19,
   "metadata": {},
   "outputs": [
    {
     "name": "stdout",
     "output_type": "stream",
     "text": [
      "1.0000000000000024\n"
     ]
    }
   ],
   "source": [
    "num_points = 5\n",
    "\n",
    "# get \"raw\" hermite nodes and weights\n",
    "x_gauss,w_gauss = tools.gauss_hermite(num_points)\n",
    "\n",
    "# adjust accordingly to the distribution X is drawn from. Here standard Gaussian\n",
    "x_gauss = np.sqrt(2)*x_gauss\n",
    "w_gauss = w_gauss/np.sqrt(np.pi)\n",
    "\n",
    "# evaluate expectation\n",
    "Efx_gauss = f(x_gauss.T) @ w_gauss\n",
    "print(Efx_gauss)"
   ]
  },
  {
   "cell_type": "code",
   "execution_count": 11,
   "metadata": {},
   "outputs": [],
   "source": [
    "# construct function for use below\n",
    "def integrate_gauss(f,num_points):\n",
    "    x_gauss,w_gauss = tools.gauss_hermite(num_points)\n",
    "    return f(np.sqrt(2)*x_gauss.T) @ w_gauss/np.sqrt(np.pi)"
   ]
  },
  {
   "cell_type": "markdown",
   "metadata": {},
   "source": [
    "### 3. Compare the two methods across various number of grid points. How few grid points do you need for Gauss-Hermite integration?"
   ]
  },
  {
   "cell_type": "code",
   "execution_count": 12,
   "metadata": {},
   "outputs": [
    {
     "name": "stdout",
     "output_type": "stream",
     "text": [
      "Number of grid points:    1\n",
      "MC:    0.0000\n"
     ]
    },
    {
     "ename": "NameError",
     "evalue": "name 'tools' is not defined",
     "output_type": "error",
     "traceback": [
      "\u001b[0;31m---------------------------------------------------------------------------\u001b[0m",
      "\u001b[0;31mNameError\u001b[0m                                 Traceback (most recent call last)",
      "Input \u001b[0;32mIn [12]\u001b[0m, in \u001b[0;36m<module>\u001b[0;34m\u001b[0m\n\u001b[1;32m      9\u001b[0m \u001b[38;5;28mprint\u001b[39m(\u001b[38;5;124mf\u001b[39m\u001b[38;5;124m'\u001b[39m\u001b[38;5;124mMC:    \u001b[39m\u001b[38;5;132;01m{\u001b[39;00mintegrate_MC(f,num)\u001b[38;5;132;01m:\u001b[39;00m\u001b[38;5;124m.4f\u001b[39m\u001b[38;5;132;01m}\u001b[39;00m\u001b[38;5;124m'\u001b[39m)\n\u001b[1;32m     10\u001b[0m \u001b[38;5;28;01mif\u001b[39;00m num \u001b[38;5;241m<\u001b[39m \u001b[38;5;241m1500\u001b[39m:\n\u001b[0;32m---> 11\u001b[0m     \u001b[38;5;28mprint\u001b[39m(\u001b[38;5;124mf\u001b[39m\u001b[38;5;124m'\u001b[39m\u001b[38;5;124mgauss: \u001b[39m\u001b[38;5;132;01m{\u001b[39;00mintegrate_gauss(f,num)\u001b[38;5;132;01m:\u001b[39;00m\u001b[38;5;124m.4f\u001b[39m\u001b[38;5;132;01m}\u001b[39;00m\u001b[38;5;124m'\u001b[39m)\n\u001b[1;32m     12\u001b[0m \u001b[38;5;28mprint\u001b[39m(\u001b[38;5;124mf\u001b[39m\u001b[38;5;124m'\u001b[39m\u001b[38;5;124mTrue value:  \u001b[39m\u001b[38;5;132;01m{\u001b[39;00m\u001b[38;5;241m1\u001b[39m\u001b[38;5;132;01m:\u001b[39;00m\u001b[38;5;124m.4f\u001b[39m\u001b[38;5;132;01m}\u001b[39;00m\u001b[38;5;124m'\u001b[39m)\n\u001b[1;32m     13\u001b[0m t1 \u001b[38;5;241m=\u001b[39m time\u001b[38;5;241m.\u001b[39mtime() \u001b[38;5;66;03m# set the ending time\u001b[39;00m\n",
      "Input \u001b[0;32mIn [11]\u001b[0m, in \u001b[0;36mintegrate_gauss\u001b[0;34m(f, num_points)\u001b[0m\n\u001b[1;32m      2\u001b[0m \u001b[38;5;28;01mdef\u001b[39;00m \u001b[38;5;21mintegrate_gauss\u001b[39m(f,num_points):\n\u001b[0;32m----> 3\u001b[0m     x_gauss,w_gauss \u001b[38;5;241m=\u001b[39m \u001b[43mtools\u001b[49m\u001b[38;5;241m.\u001b[39mgauss_hermite(num_points)\n\u001b[1;32m      4\u001b[0m     \u001b[38;5;28;01mreturn\u001b[39;00m f(np\u001b[38;5;241m.\u001b[39msqrt(\u001b[38;5;241m2\u001b[39m)\u001b[38;5;241m*\u001b[39mx_gauss\u001b[38;5;241m.\u001b[39mT) \u001b[38;5;241m@\u001b[39m w_gauss\u001b[38;5;241m/\u001b[39mnp\u001b[38;5;241m.\u001b[39msqrt(np\u001b[38;5;241m.\u001b[39mpi)\n",
      "\u001b[0;31mNameError\u001b[0m: name 'tools' is not defined"
     ]
    }
   ],
   "source": [
    "num_array = [1,2,3,10,50,100,1000,3000,900000]\n",
    "\n",
    "# We check the time\n",
    "import time\n",
    "\n",
    "for i,num in enumerate(num_array):   # i is the index, and num is the corresponding value: num_array[i]=num\n",
    "    t0 = time.time()  # set the starting time\n",
    "    print(f'Number of grid points:    {num}')\n",
    "    print(f'MC:    {integrate_MC(f,num):.4f}')\n",
    "    if num < 1500:\n",
    "        print(f'gauss: {integrate_gauss(f,num):.4f}')\n",
    "    print(f'True value:  {1:.4f}')\n",
    "    t1 = time.time() # set the ending time\n",
    "    print(f'time: {t1-t0:.8} seconds') # print the total time\n",
    "    print(f'')"
   ]
  },
  {
   "cell_type": "markdown",
   "metadata": {},
   "source": [
    "### 4. Change the function f and see what happens."
   ]
  },
  {
   "cell_type": "code",
   "execution_count": null,
   "metadata": {},
   "outputs": [],
   "source": [
    "num_array = [1,2,3,4,5,10,50,100,500,3000]\n",
    "\n",
    "# New function\n",
    "g = lambda x: np.exp(x)\n",
    "\n",
    "for i,num in enumerate(num_array): # i is the index, and num is the corresponding value: num_array[i]=num\n",
    "    print(f'Number of grid points:    {num}')\n",
    "    if num < 1500:\n",
    "        print(f'gauss: {integrate_gauss(g,num):.4f}')\n",
    "    print(f'MC:    {integrate_MC(g,num):.4f}')\n",
    "    print(f'True value:  {np.exp(1/2):.4f}')\n",
    "    print(f'')"
   ]
  }
 ],
 "metadata": {
  "kernelspec": {
   "display_name": "Python 3 (ipykernel)",
   "language": "python",
   "name": "python3"
  },
  "language_info": {
   "codemirror_mode": {
    "name": "ipython",
    "version": 3
   },
   "file_extension": ".py",
   "mimetype": "text/x-python",
   "name": "python",
   "nbconvert_exporter": "python",
   "pygments_lexer": "ipython3",
   "version": "3.9.7"
  }
 },
 "nbformat": 4,
 "nbformat_minor": 4
}
